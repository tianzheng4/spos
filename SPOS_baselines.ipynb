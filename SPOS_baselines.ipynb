{
 "cells": [
  {
   "cell_type": "markdown",
   "metadata": {},
   "source": [
    "## SVGD for toy distributions\n",
    "\n",
    "Author: Chunyuan Li ( http://chunyuan.li/ ). \n",
    "Tensorflow implementation of SVGD algorithm.\n",
    "\n",
    "Please contact me if there is any issue.\n",
    "\n",
    "Reference: Stein Variational Gradient Descent (SVGD): A General Purpose Bayesian Inference Algorithm, NIPS2017"
   ]
  },
  {
   "cell_type": "code",
   "execution_count": 1,
   "metadata": {
    "collapsed": true
   },
   "outputs": [],
   "source": [
    "%matplotlib inline\n",
    "import matplotlib.pyplot as plt\n",
    "import numpy as np\n",
    "import time\n",
    "import pdb\n",
    "import matplotlib\n",
    "# import some stuff\n",
    "from __future__ import division, print_function\n",
    "\n",
    "import os\n",
    "\n",
    "# set gpu device - only important for multi gpu systems\n",
    "os.environ['CUDA_VISIBLE_DEVICES'] = '1'\n",
    "import tensorflow as tf\n",
    "\n",
    "rng = np.random.RandomState()\n",
    "np.random.seed(44)"
   ]
  },
  {
   "cell_type": "markdown",
   "metadata": {
    "collapsed": true
   },
   "source": [
    "Test toy distributions:"
   ]
  },
  {
   "cell_type": "code",
   "execution_count": 2,
   "metadata": {
    "collapsed": true
   },
   "outputs": [],
   "source": [
    "\n",
    "def w1(z):\n",
    "    return tf.sin(2.*np.pi*z[0]/4.)\n",
    "def w2(z):\n",
    "    return 3.*tf.exp(-.5*(((z[0]-1.)/.6))**2)\n",
    "def w3(z):\n",
    "    return 3.*(1+tf.exp(-(z[0]-1.)/.3))**-1\n",
    "def pot0(z):\n",
    "    z = tf.transpose(z)\n",
    "    return .5*((tf.norm(z, ord=2, axis=0)-0.)/.4)**2 - tf.log(tf.exp(-.5*((z[0]-0.)/.8)**2) )\n",
    "def pot1(z):\n",
    "    z = tf.transpose(z)\n",
    "    return .5*((tf.norm(z, ord=2, axis=0)-2.)/.4)**2 - tf.log(tf.exp(-.5*((z[0]-2.)/.6)**2) + tf.exp(-.5*((z[0]+2.)/.6)**2))\n",
    "def pot2(z):\n",
    "    z = tf.transpose(z)\n",
    "    return .5*((z[1]-w1(z))/.4)**2\n",
    "def pot3(z):\n",
    "    z = tf.transpose(z)\n",
    "    return -tf.log(tf.exp(-.5*((z[1]-w1(z))/.35)**2) + tf.exp(-.5*((z[1]-w1(z)+w2(z))/.35)**2))\n",
    "def pot4(z):\n",
    "    z = tf.transpose(z)\n",
    "    return -tf.log(tf.exp(-.5*((z[1]-w1(z))/.4)**2) + tf.exp(-.5*((z[1]-w1(z)+w3(z))/.35)**2))"
   ]
  },
  {
   "cell_type": "code",
   "execution_count": 3,
   "metadata": {
    "collapsed": true
   },
   "outputs": [],
   "source": [
    "def evaluate_bivariate(range, npoints):\n",
    "    \"\"\"Evaluate (possibly unnormalized) pdf over a meshgrid.\"\"\"\n",
    "    side = np.linspace(range[0], range[1], npoints)\n",
    "    z1, z2 = np.meshgrid(side, side)\n",
    "    zv = np.hstack([z1.reshape(-1, 1), z2.reshape(-1, 1)])\n",
    "    \n",
    "    return z1, z2, zv"
   ]
  },
  {
   "cell_type": "markdown",
   "metadata": {
    "collapsed": true
   },
   "source": [
    "The SVGD update rule:"
   ]
  },
  {
   "cell_type": "code",
   "execution_count": 4,
   "metadata": {
    "collapsed": true
   },
   "outputs": [],
   "source": [
    "def svgd_kernel(X0):\n",
    "    XY = tf.matmul(X0, tf.transpose(X0))\n",
    "    X2_ = tf.reduce_sum(tf.square(X0), axis=1)\n",
    "\n",
    "    x2 = tf.reshape( X2_, shape=( tf.shape(X0)[0], 1) )\n",
    "    \n",
    "    X2e = tf.tile(x2, [1, tf.shape(X0)[0] ] )\n",
    "    H = tf.subtract(tf.add(X2e, tf.transpose(X2e) ), 2 * XY)\n",
    "\n",
    "    V = tf.reshape(H, [-1,1]) \n",
    "\n",
    "    # median distance\n",
    "    def get_median(v):\n",
    "        v = tf.reshape(v, [-1])\n",
    "        m = v.get_shape()[0]//2\n",
    "        return tf.nn.top_k(v, m).values[m-1]\n",
    "    h = get_median(V)\n",
    "    h = tf.sqrt(0.5 * h / tf.log( tf.cast( tf.shape(X0)[0] , tf.float32) + 1.0))\n",
    "\n",
    "    # compute the rbf kernel\n",
    "    Kxy = tf.exp(-H / h ** 2 / 2.0)\n",
    "\n",
    "    dxkxy = -tf.matmul(Kxy, X0)\n",
    "    sumkxy = tf.expand_dims(tf.reduce_sum(Kxy, axis=1), 1) \n",
    "    dxkxy = tf.add(dxkxy, tf.multiply(X0, sumkxy)) / (h ** 2)\n",
    "\n",
    "    return (Kxy, dxkxy)"
   ]
  },
  {
   "cell_type": "code",
   "execution_count": 5,
   "metadata": {},
   "outputs": [],
   "source": [
    "dtype = tf.float32\n",
    "num_particles=128\n",
    "num_latent = 2\n",
    "lr = 0.1\n",
    "alpha=.9\n",
    "fudge_factor = 1e-6\n",
    "num_iter = 300\n",
    "range_limit = [-4,4]\n",
    "npoints_plot=50"
   ]
  },
  {
   "cell_type": "code",
   "execution_count": 6,
   "metadata": {},
   "outputs": [],
   "source": [
    "def test_case(U_z):\n",
    "    z  = tf.placeholder(tf.float32, [num_particles, num_latent])\n",
    "    f = -U_z(z)\n",
    "    prob = tf.exp(f)\n",
    "    log_p_grad = tf.squeeze(tf.gradients(f, z))\n",
    "    out = svgd_kernel(z) # call MAIN update\n",
    "    kernel_matrix, kernel_gradients = out[0], out[1]\n",
    "\n",
    "    grad_theta = (tf.matmul(kernel_matrix, log_p_grad) + kernel_gradients)/num_particles\n",
    "    z_np = -np.random.randn(num_particles, num_latent)*2.0\n",
    "\n",
    "    fig, _ = plt.subplots(figsize=(10, 5))\n",
    "    ax=plt.subplot(1,3,1, aspect='equal')\n",
    "    plt.scatter(z_np[:,0], z_np[:,1])  \n",
    "    plt.xlim(range_limit); plt.ylim(range_limit); ax.set_title('Initial particles: $p_0(z)$')\n",
    "\n",
    "    with tf.Session() as s:\n",
    "        for i in xrange(num_iter):\n",
    "            grad_theta_ = s.run( grad_theta, feed_dict={z: z_np } )\n",
    "            z_np = z_np + lr * grad_theta_\n",
    "\n",
    "    ax=plt.subplot(1,3,2, aspect='equal')\n",
    "    plt.scatter(z_np[:,0], z_np[:,1])\n",
    "    plt.xlim(range_limit); plt.ylim(range_limit); ax.set_title('Updated particles: $p_k(z)$')\n",
    "    \n",
    "    # plot the Target distribution\n",
    "    z_pp  = tf.placeholder(tf.float32, [None, num_latent])\n",
    "    prob = tf.exp(-U_z(z_pp))\n",
    "\n",
    "    ax=plt.subplot(1,3,3, aspect='equal')\n",
    "    mesh_z1, mesh_z2, zv = evaluate_bivariate(range=range_limit, npoints=npoints_plot)\n",
    "    with tf.Session() as s:\n",
    "        phat_z = s.run(prob, feed_dict={z_pp: zv} ) \n",
    "    phat_z=phat_z.reshape([npoints_plot,npoints_plot])\n",
    "    ax.pcolormesh(mesh_z1, mesh_z2, phat_z)\n",
    "    z_min, z_max = -np.abs(phat_z).max(), np.abs(phat_z).max()\n",
    "    plt.pcolor(mesh_z1, mesh_z2, phat_z, cmap='RdBu', vmin=z_min, vmax=z_max)\n",
    "    plt.xlim(range_limit); plt.ylim(range_limit); ax.set_title('Target distribution: $u(z)$')"
   ]
  },
  {
   "cell_type": "code",
   "execution_count": 7,
   "metadata": {},
   "outputs": [
    {
     "data": {
      "image/png": "[encoded data removed]",
      "text/plain": [
       "<matplotlib.figure.Figure at 0x7f7157b903d0>"
      ]
     },
     "metadata": {},
     "output_type": "display_data"
    }
   ],
   "source": [
    "test_case(pot1)"
   ]
  },
  {
   "cell_type": "code",
   "execution_count": 8,
   "metadata": {},
   "outputs": [
    {
     "data": {
      "image/png": "[encoded data removed]",
      "text/plain": [
       "<matplotlib.figure.Figure at 0x7f712806ac10>"
      ]
     },
     "metadata": {},
     "output_type": "display_data"
    }
   ],
   "source": [
    "test_case(pot2)   "
   ]
  },
  {
   "cell_type": "code",
   "execution_count": null,
   "metadata": {
    "collapsed": true
   },
   "outputs": [],
   "source": []
  },
  {
   "cell_type": "code",
   "execution_count": null,
   "metadata": {
    "collapsed": true
   },
   "outputs": [],
   "source": []
  }
 ],
 "metadata": {
  "kernelspec": {
   "display_name": "Python 2",
   "language": "python",
   "name": "python2"
  },
  "language_info": {
   "codemirror_mode": {
    "name": "ipython",
    "version": 2
   },
   "file_extension": ".py",
   "mimetype": "text/x-python",
   "name": "python",
   "nbconvert_exporter": "python",
   "pygments_lexer": "ipython2",
   "version": "2.7.12"
  }
 },
 "nbformat": 4,
 "nbformat_minor": 2
}
